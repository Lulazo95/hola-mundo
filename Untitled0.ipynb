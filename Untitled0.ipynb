{
  "nbformat": 4,
  "nbformat_minor": 0,
  "metadata": {
    "colab": {
      "provenance": [],
      "authorship_tag": "ABX9TyMNOFgOOnJ8UKW65FSnbwou",
      "include_colab_link": true
    },
    "kernelspec": {
      "name": "python3",
      "display_name": "Python 3"
    },
    "language_info": {
      "name": "python"
    }
  },
  "cells": [
    {
      "cell_type": "markdown",
      "metadata": {
        "id": "view-in-github",
        "colab_type": "text"
      },
      "source": [
        "<a href=\"https://colab.research.google.com/github/Lulazo95/hola-mundo/blob/main/Untitled0.ipynb\" target=\"_parent\"><img src=\"https://colab.research.google.com/assets/colab-badge.svg\" alt=\"Open In Colab\"/></a>"
      ]
    },
    {
      "cell_type": "markdown",
      "source": [
        "SOFTWARE PARA UTILIZAR LA FUNCION CONCATENAR"
      ],
      "metadata": {
        "id": "jQih-OHz2b4K"
      }
    },
    {
      "cell_type": "markdown",
      "source": [
        "con este ejemplo utilizaremos la funcion concatenar, para crear una cuenta de correo electronico, dando nombre y apellido del usuario."
      ],
      "metadata": {
        "id": "MWm9KdJ23bH0"
      }
    },
    {
      "cell_type": "code",
      "execution_count": 3,
      "metadata": {
        "colab": {
          "base_uri": "https://localhost:8080/"
        },
        "id": "oKcm8d9E2VGo",
        "outputId": "f24d6fd5-f372-4bbb-951b-b1a5e43ef5ee"
      },
      "outputs": [
        {
          "output_type": "stream",
          "name": "stdout",
          "text": [
            "ingresa el nombre:juan\n",
            "ingresa el apellido:chuncha\n",
            "concatenar: juan.chuncha@ute.edu.ec\n"
          ]
        }
      ],
      "source": [
        "nombre = input(\"ingresa el nombre:\")\n",
        "\n",
        "apellidos = input(\"ingresa el apellido:\")\n",
        "\n",
        "concatenar = nombre + \".\" + apellidos +\"@ute.edu.ec\"\n",
        "\n",
        "print (f\"concatenar: {concatenar}\")\n"
      ]
    },
    {
      "cell_type": "markdown",
      "source": [
        "SOFTWARE PARA ENCONTAR EL MINIMO EN UNA SERIE DE NUMEROS USANDO LOS *args"
      ],
      "metadata": {
        "id": "_427opwR41uy"
      }
    },
    {
      "cell_type": "markdown",
      "source": [
        "crearemos una funcion utilizando la funcion minimo aplicando *args para poner una gran cantidad de variables."
      ],
      "metadata": {
        "id": "pLHl8Dn-552B"
      }
    },
    {
      "cell_type": "code",
      "source": [
        "def sacar_minimo(*args):\n",
        "    return min(args)\n",
        "\n",
        "minimo = sacar_minimo(1,22,5,88,6,33,8,7,9,-88)\n",
        "print(f\"minimo: {minimo}\")"
      ],
      "metadata": {
        "colab": {
          "base_uri": "https://localhost:8080/"
        },
        "id": "ZYs7CMUH42Cp",
        "outputId": "c098b8b0-942f-4868-c4db-065b1c5e3f75"
      },
      "execution_count": 4,
      "outputs": [
        {
          "output_type": "stream",
          "name": "stdout",
          "text": [
            "minimo: -88\n"
          ]
        }
      ]
    }
  ]
}